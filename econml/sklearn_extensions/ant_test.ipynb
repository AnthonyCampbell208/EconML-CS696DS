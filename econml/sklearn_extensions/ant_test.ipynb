{
 "cells": [
  {
   "cell_type": "code",
   "execution_count": 18,
   "metadata": {},
   "outputs": [],
   "source": [
    "import numpy as np\n",
    "import sklearn\n",
    "import sklearn.ensemble\n",
    "import sklearn.linear_model\n",
    "import sklearn.neural_network\n",
    "import sklearn.preprocessing\n",
    "from sklearn.base import BaseEstimator\n",
    "from sklearn.ensemble import (GradientBoostingClassifier,\n",
    "                              GradientBoostingRegressor,\n",
    "                              RandomForestClassifier, RandomForestRegressor)\n",
    "from sklearn.linear_model import ElasticNetCV, LogisticRegressionCV\n",
    "from sklearn.model_selection import BaseCrossValidator\n",
    "from sklearn.neural_network import MLPClassifier, MLPRegressor\n",
    "from sklearn.pipeline import Pipeline\n",
    "from sklearn.preprocessing import (MaxAbsScaler, MinMaxScaler,\n",
    "                                   PolynomialFeatures, RobustScaler,\n",
    "                                   StandardScaler)"
   ]
  },
  {
   "cell_type": "code",
   "execution_count": 33,
   "metadata": {},
   "outputs": [
    {
     "data": {
      "text/plain": [
       "False"
      ]
     },
     "execution_count": 33,
     "metadata": {},
     "output_type": "execute_result"
    }
   ],
   "source": [
    "elastic = sklearn.linear_model.ElasticNetCV()\n",
    "type(BaseEstimator()) == type(elastic)\n",
    "# type(elastic) == type(ElasticNetCV())"
   ]
  },
  {
   "cell_type": "code",
   "execution_count": 8,
   "metadata": {},
   "outputs": [
    {
     "name": "stdout",
     "output_type": "stream",
     "text": [
      "False\n",
      "True\n"
     ]
    }
   ],
   "source": [
    "from sklearn.datasets import load_iris\n",
    "from sklearn.linear_model import LogisticRegression\n",
    "from sklearn.model_selection import GridSearchCV, RandomizedSearchCV\n",
    "from sklearn.model_selection._search import BaseSearchCV\n",
    "\n",
    "# Load data and create a model\n",
    "model = LogisticRegression()\n",
    "\n",
    "# Initialize the GridSearchCV object\n",
    "param_grid = {'C': [0.1, 1, 10]}\n",
    "grid_search = GridSearchCV\n",
    "\n",
    "# Initialize the RandomizedSearchCV object\n",
    "param_distributions = {'C': [0.1, 1, 10]}\n",
    "n_iter = 5\n",
    "random_search = RandomizedSearchCV(estimator=model, param_distributions=param_distributions, n_iter=n_iter, cv=5)\n",
    "\n",
    "# Test if they are instances of BaseSearchCV\n",
    "print(isinstance(grid_search, GridSearchCV)) # True\n",
    "print(isinstance(random_search, BaseSearchCV)) # True\n"
   ]
  },
  {
   "cell_type": "code",
   "execution_count": 9,
   "metadata": {},
   "outputs": [
    {
     "data": {
      "text/plain": [
       "True"
      ]
     },
     "execution_count": 9,
     "metadata": {},
     "output_type": "execute_result"
    }
   ],
   "source": [
    "GridSearchCV == GridSearchCV"
   ]
  },
  {
   "cell_type": "code",
   "execution_count": 6,
   "metadata": {},
   "outputs": [
    {
     "ename": "TypeError",
     "evalue": "__init__() missing 2 required positional arguments: 'estimator' and 'param_grid'",
     "output_type": "error",
     "traceback": [
      "\u001b[0;31m---------------------------------------------------------------------------\u001b[0m",
      "\u001b[0;31mTypeError\u001b[0m                                 Traceback (most recent call last)",
      "Cell \u001b[0;32mIn[6], line 1\u001b[0m\n\u001b[0;32m----> 1\u001b[0m grid \u001b[39m=\u001b[39m GridSearchCV()\n",
      "\u001b[0;31mTypeError\u001b[0m: __init__() missing 2 required positional arguments: 'estimator' and 'param_grid'"
     ]
    }
   ],
   "source": [
    "grid = GridSearchCV"
   ]
  },
  {
   "cell_type": "code",
   "execution_count": 5,
   "metadata": {},
   "outputs": [
    {
     "data": {
      "text/html": [
       "<style>#sk-container-id-1 {color: black;background-color: white;}#sk-container-id-1 pre{padding: 0;}#sk-container-id-1 div.sk-toggleable {background-color: white;}#sk-container-id-1 label.sk-toggleable__label {cursor: pointer;display: block;width: 100%;margin-bottom: 0;padding: 0.3em;box-sizing: border-box;text-align: center;}#sk-container-id-1 label.sk-toggleable__label-arrow:before {content: \"▸\";float: left;margin-right: 0.25em;color: #696969;}#sk-container-id-1 label.sk-toggleable__label-arrow:hover:before {color: black;}#sk-container-id-1 div.sk-estimator:hover label.sk-toggleable__label-arrow:before {color: black;}#sk-container-id-1 div.sk-toggleable__content {max-height: 0;max-width: 0;overflow: hidden;text-align: left;background-color: #f0f8ff;}#sk-container-id-1 div.sk-toggleable__content pre {margin: 0.2em;color: black;border-radius: 0.25em;background-color: #f0f8ff;}#sk-container-id-1 input.sk-toggleable__control:checked~div.sk-toggleable__content {max-height: 200px;max-width: 100%;overflow: auto;}#sk-container-id-1 input.sk-toggleable__control:checked~label.sk-toggleable__label-arrow:before {content: \"▾\";}#sk-container-id-1 div.sk-estimator input.sk-toggleable__control:checked~label.sk-toggleable__label {background-color: #d4ebff;}#sk-container-id-1 div.sk-label input.sk-toggleable__control:checked~label.sk-toggleable__label {background-color: #d4ebff;}#sk-container-id-1 input.sk-hidden--visually {border: 0;clip: rect(1px 1px 1px 1px);clip: rect(1px, 1px, 1px, 1px);height: 1px;margin: -1px;overflow: hidden;padding: 0;position: absolute;width: 1px;}#sk-container-id-1 div.sk-estimator {font-family: monospace;background-color: #f0f8ff;border: 1px dotted black;border-radius: 0.25em;box-sizing: border-box;margin-bottom: 0.5em;}#sk-container-id-1 div.sk-estimator:hover {background-color: #d4ebff;}#sk-container-id-1 div.sk-parallel-item::after {content: \"\";width: 100%;border-bottom: 1px solid gray;flex-grow: 1;}#sk-container-id-1 div.sk-label:hover label.sk-toggleable__label {background-color: #d4ebff;}#sk-container-id-1 div.sk-serial::before {content: \"\";position: absolute;border-left: 1px solid gray;box-sizing: border-box;top: 0;bottom: 0;left: 50%;z-index: 0;}#sk-container-id-1 div.sk-serial {display: flex;flex-direction: column;align-items: center;background-color: white;padding-right: 0.2em;padding-left: 0.2em;position: relative;}#sk-container-id-1 div.sk-item {position: relative;z-index: 1;}#sk-container-id-1 div.sk-parallel {display: flex;align-items: stretch;justify-content: center;background-color: white;position: relative;}#sk-container-id-1 div.sk-item::before, #sk-container-id-1 div.sk-parallel-item::before {content: \"\";position: absolute;border-left: 1px solid gray;box-sizing: border-box;top: 0;bottom: 0;left: 50%;z-index: -1;}#sk-container-id-1 div.sk-parallel-item {display: flex;flex-direction: column;z-index: 1;position: relative;background-color: white;}#sk-container-id-1 div.sk-parallel-item:first-child::after {align-self: flex-end;width: 50%;}#sk-container-id-1 div.sk-parallel-item:last-child::after {align-self: flex-start;width: 50%;}#sk-container-id-1 div.sk-parallel-item:only-child::after {width: 0;}#sk-container-id-1 div.sk-dashed-wrapped {border: 1px dashed gray;margin: 0 0.4em 0.5em 0.4em;box-sizing: border-box;padding-bottom: 0.4em;background-color: white;}#sk-container-id-1 div.sk-label label {font-family: monospace;font-weight: bold;display: inline-block;line-height: 1.2em;}#sk-container-id-1 div.sk-label-container {text-align: center;}#sk-container-id-1 div.sk-container {/* jupyter's `normalize.less` sets `[hidden] { display: none; }` but bootstrap.min.css set `[hidden] { display: none !important; }` so we also need the `!important` here to be able to override the default hidden behavior on the sphinx rendered scikit-learn.org. See: https://github.com/scikit-learn/scikit-learn/issues/21755 */display: inline-block !important;position: relative;}#sk-container-id-1 div.sk-text-repr-fallback {display: none;}</style><div id=\"sk-container-id-1\" class=\"sk-top-container\"><div class=\"sk-text-repr-fallback\"><pre>GridSearchCV(cv=5, estimator=LogisticRegression(),\n",
       "             param_grid={&#x27;C&#x27;: [0.1, 1, 10]})</pre><b>In a Jupyter environment, please rerun this cell to show the HTML representation or trust the notebook. <br />On GitHub, the HTML representation is unable to render, please try loading this page with nbviewer.org.</b></div><div class=\"sk-container\" hidden><div class=\"sk-item sk-dashed-wrapped\"><div class=\"sk-label-container\"><div class=\"sk-label sk-toggleable\"><input class=\"sk-toggleable__control sk-hidden--visually\" id=\"sk-estimator-id-1\" type=\"checkbox\" ><label for=\"sk-estimator-id-1\" class=\"sk-toggleable__label sk-toggleable__label-arrow\">GridSearchCV</label><div class=\"sk-toggleable__content\"><pre>GridSearchCV(cv=5, estimator=LogisticRegression(),\n",
       "             param_grid={&#x27;C&#x27;: [0.1, 1, 10]})</pre></div></div></div><div class=\"sk-parallel\"><div class=\"sk-parallel-item\"><div class=\"sk-item\"><div class=\"sk-label-container\"><div class=\"sk-label sk-toggleable\"><input class=\"sk-toggleable__control sk-hidden--visually\" id=\"sk-estimator-id-2\" type=\"checkbox\" ><label for=\"sk-estimator-id-2\" class=\"sk-toggleable__label sk-toggleable__label-arrow\">estimator: LogisticRegression</label><div class=\"sk-toggleable__content\"><pre>LogisticRegression()</pre></div></div></div><div class=\"sk-serial\"><div class=\"sk-item\"><div class=\"sk-estimator sk-toggleable\"><input class=\"sk-toggleable__control sk-hidden--visually\" id=\"sk-estimator-id-3\" type=\"checkbox\" ><label for=\"sk-estimator-id-3\" class=\"sk-toggleable__label sk-toggleable__label-arrow\">LogisticRegression</label><div class=\"sk-toggleable__content\"><pre>LogisticRegression()</pre></div></div></div></div></div></div></div></div></div></div>"
      ],
      "text/plain": [
       "GridSearchCV(cv=5, estimator=LogisticRegression(),\n",
       "             param_grid={'C': [0.1, 1, 10]})"
      ]
     },
     "execution_count": 5,
     "metadata": {},
     "output_type": "execute_result"
    }
   ],
   "source": [
    "grid(estimator=model, param_grid=param_grid, cv=5)"
   ]
  },
  {
   "cell_type": "code",
   "execution_count": 28,
   "metadata": {},
   "outputs": [
    {
     "data": {
      "text/plain": [
       "False"
      ]
     },
     "execution_count": 28,
     "metadata": {},
     "output_type": "execute_result"
    }
   ],
   "source": [
    "type(BaseEstimator()) == elastic"
   ]
  },
  {
   "cell_type": "code",
   "execution_count": 12,
   "metadata": {},
   "outputs": [
    {
     "name": "stdout",
     "output_type": "stream",
     "text": [
      "Yay\n"
     ]
    }
   ],
   "source": [
    "from sklearn.linear_model import LinearRegression\n",
    "from sklearn.base import BaseEstimator\n",
    "from sklearn.model_selection import BaseCrossValidator\n",
    "\n",
    "lr = [LinearRegression()]\n",
    "if not isinstance(lr[0], (str, BaseEstimator, BaseCrossValidator)):\n",
    "    raise TypeError(\"The list must contain only strings, sklearn model objects, and sklearn model selection objects.\")\n",
    "print(\"Yay\")"
   ]
  },
  {
   "cell_type": "code",
   "execution_count": 10,
   "metadata": {},
   "outputs": [
    {
     "ename": "SyntaxError",
     "evalue": "invalid syntax (1604001357.py, line 1)",
     "output_type": "error",
     "traceback": [
      "\u001b[0;36m  Cell \u001b[0;32mIn[10], line 1\u001b[0;36m\u001b[0m\n\u001b[0;31m    def select(model_input, scale=False, normalize=False)\u001b[0m\n\u001b[0m                                                         ^\u001b[0m\n\u001b[0;31mSyntaxError\u001b[0m\u001b[0;31m:\u001b[0m invalid syntax\n"
     ]
    }
   ],
   "source": [
    "import sklearn.linear_model\n",
    "import sklearn.ensemble\n",
    "import sklearn.neural_network\n",
    "import sklearn.preprocessing\n",
    "import numpy as np\n",
    "\n",
    "def select_estimator(estimator_type, target_type):\n",
    "    if target_type not in ['continuous', 'discrete']:\n",
    "        raise ValueError(f\"Unsupported target type: {target_type}\")\n",
    "    if estimator_type == 'linear':\n",
    "        if target_type == 'continuous':\n",
    "            return sklearn.linear_model.ElasticNetCV()\n",
    "        elif target_type == 'discrete':\n",
    "            return sklearn.linear_model.LogisticRegressionCV()\n",
    "    elif estimator_type == 'forest':\n",
    "        if target_type == 'continuous':\n",
    "            return sklearn.ensemble.RandomForestRegressor()\n",
    "        elif target_type == 'discrete':\n",
    "            return sklearn.ensemble.RandomForestClassifier()\n",
    "    elif estimator_type == 'gbf':\n",
    "        if target_type == 'continuous':\n",
    "            return sklearn.ensemble.GradientBoostingRegressor()\n",
    "        elif target_type == 'discrete':\n",
    "            return sklearn.ensemble.GradientBoostingClassifier()\n",
    "    elif estimator_type == 'nnet':\n",
    "        if target_type == 'continuous':\n",
    "            return sklearn.neural_network.MLPRegressor()\n",
    "        elif target_type == 'discrete':\n",
    "            return sklearn.neural_network.MLPClassifier()\n",
    "    elif estimator_type == 'poly':\n",
    "        degrees = [2, 3, 4]  \n",
    "        models = []\n",
    "        if target_type == 'continuous':\n",
    "            return sklearn.linear_model.ElasticNetCV(precompute=True)\n",
    "        elif target_type == 'discrete':\n",
    "            return sklearn.linear_model.LogisticRegressionCV()\n",
    "    elif estimator_type == 'automl':\n",
    "        return    \n",
    "    elif estimator_type == 'all':\n",
    "        if target_type == 'continuous':\n",
    "            return sklearn.ensemble.VotingRegressor(estimators=[\n",
    "                ('linear', select_estimator('linear', target_type)),\n",
    "                ('forest', select_estimator('forest', target_type)),\n",
    "                ('gbf', select_estimator('gbf', target_type)),\n",
    "                ('nnet', select_estimator('nnet', target_type)),\n",
    "                ('poly', select_estimator('poly', target_type)),\n",
    "            ], voting='soft')\n",
    "        elif target_type == 'discrete':\n",
    "            return sklearn.ensemble.VotingClassifier(estimators=[\n",
    "                ('linear', select_estimator('linear', target_type)),\n",
    "                ('forest', select_estimator('forest', target_type)),\n",
    "                ('gbf', select_estimator('gbf', target_type)),\n",
    "                ('nnet', select_estimator('nnet', target_type)),\n",
    "                ('poly', select_estimator('poly', target_type)),\n",
    "            ], voting='soft')\n"
   ]
  },
  {
   "cell_type": "code",
   "execution_count": 17,
   "metadata": {},
   "outputs": [
    {
     "name": "stdout",
     "output_type": "stream",
     "text": [
      "hi\n"
     ]
    }
   ],
   "source": [
    "# abc = ['a', 'b', 'c']\n",
    "abc = 'abc'\n",
    "if not isinstance(abc, list):\n",
    "    print('hi')"
   ]
  },
  {
   "cell_type": "code",
   "execution_count": 8,
   "metadata": {},
   "outputs": [
    {
     "name": "stderr",
     "output_type": "stream",
     "text": [
      "[Parallel(n_jobs=1)]: Using backend SequentialBackend with 1 concurrent workers.\n",
      "............................................................................................................................................................................................................................................................................................................[Parallel(n_jobs=1)]: Done   3 out of   3 | elapsed:    0.1s finished\n",
      "[Parallel(n_jobs=1)]: Using backend SequentialBackend with 1 concurrent workers.\n",
      "............................................................................................................................................................................................................................................................................................................[Parallel(n_jobs=1)]: Done   3 out of   3 | elapsed:    1.0s finished\n",
      "[Parallel(n_jobs=1)]: Using backend SequentialBackend with 1 concurrent workers.\n",
      "............................................................................................................................................................................................................................................................................................................[Parallel(n_jobs=1)]: Done   3 out of   3 | elapsed:  1.1min finished\n"
     ]
    }
   ],
   "source": [
    "import sklearn.linear_model\n",
    "import sklearn.ensemble\n",
    "import sklearn.neural_network\n",
    "import sklearn.preprocessing\n",
    "import numpy as np\n",
    "import sklearn.pipeline\n",
    "from sklearn.linear_model import ElasticNetCV\n",
    "from sklearn.datasets import make_regression, make_classification\n",
    "from sklearn.model_selection import train_test_split\n",
    "import numpy as np\n",
    "\n",
    "# param_grid = {\n",
    "\n",
    "target_type = 'continuous'\n",
    "degrees = [2, 3, 4]  \n",
    "models = []\n",
    "for degree in degrees:\n",
    "    poly = sklearn.preprocessing.PolynomialFeatures(degree=degree)\n",
    "    if target_type == 'continuous':\n",
    "        linear = sklearn.linear_model.ElasticNetCV(precompute=True, cv=3, tol=0.1, verbose=1)\n",
    "    elif target_type == 'discrete':\n",
    "        linear = sklearn.linear_model.LogisticRegressionCV()\n",
    "    else:\n",
    "        raise ValueError(f\"Unsupported target type: {target_type}\")\n",
    "    models.append((f\"poly{degree}\", sklearn.pipeline.Pipeline([('poly', poly), ('linear', linear)])))\n",
    "model = sklearn.ensemble.VotingRegressor(estimators=models)\n",
    "\n",
    "# generate some regression data\n",
    "X, y = make_regression(n_samples=1000, n_features=20, random_state=42)\n",
    "\n",
    "# split the data into training and validation sets\n",
    "X_train, X_test, y_train, y_test = train_test_split(X,y, train_size=0.8)\n",
    "\n",
    "model.fit(X_train, y_train)\n",
    "\n",
    "# predict on the test set\n",
    "y_pred = model.predict(X_test)\n"
   ]
  },
  {
   "cell_type": "code",
   "execution_count": 9,
   "metadata": {},
   "outputs": [
    {
     "name": "stdout",
     "output_type": "stream",
     "text": [
      "1566.204247883811\n"
     ]
    }
   ],
   "source": [
    "from sklearn.metrics import mean_squared_error\n",
    "\n",
    "mse = mean_squared_error(y_test, y_pred)\n",
    "print(mse)"
   ]
  },
  {
   "cell_type": "code",
   "execution_count": 16,
   "metadata": {},
   "outputs": [
    {
     "name": "stdout",
     "output_type": "stream",
     "text": [
      "305.16347386708617\n"
     ]
    },
    {
     "name": "stderr",
     "output_type": "stream",
     "text": [
      "[Parallel(n_jobs=1)]: Using backend SequentialBackend with 1 concurrent workers.\n",
      "............................................................................................................................................................................................................................................................................................................[Parallel(n_jobs=1)]: Done   3 out of   3 | elapsed:    0.0s finished\n"
     ]
    }
   ],
   "source": [
    "from sklearn.preprocessing import StandardScaler, MinMaxScaler, RobustScaler\n",
    "scaled_linear = sklearn.pipeline.Pipeline([('scaling', StandardScaler()), ('linear', linear)])\n",
    "\n",
    "scaled_linear.fit(X=X, y=y)\n",
    "y_pred = scaled_linear.predict(X_test)\n",
    "mse = mean_squared_error(y_test, y_pred)\n",
    "print(mse)"
   ]
  },
  {
   "cell_type": "code",
   "execution_count": 10,
   "metadata": {},
   "outputs": [
    {
     "data": {
      "text/html": [
       "<style>#sk-container-id-1 {color: black;background-color: white;}#sk-container-id-1 pre{padding: 0;}#sk-container-id-1 div.sk-toggleable {background-color: white;}#sk-container-id-1 label.sk-toggleable__label {cursor: pointer;display: block;width: 100%;margin-bottom: 0;padding: 0.3em;box-sizing: border-box;text-align: center;}#sk-container-id-1 label.sk-toggleable__label-arrow:before {content: \"▸\";float: left;margin-right: 0.25em;color: #696969;}#sk-container-id-1 label.sk-toggleable__label-arrow:hover:before {color: black;}#sk-container-id-1 div.sk-estimator:hover label.sk-toggleable__label-arrow:before {color: black;}#sk-container-id-1 div.sk-toggleable__content {max-height: 0;max-width: 0;overflow: hidden;text-align: left;background-color: #f0f8ff;}#sk-container-id-1 div.sk-toggleable__content pre {margin: 0.2em;color: black;border-radius: 0.25em;background-color: #f0f8ff;}#sk-container-id-1 input.sk-toggleable__control:checked~div.sk-toggleable__content {max-height: 200px;max-width: 100%;overflow: auto;}#sk-container-id-1 input.sk-toggleable__control:checked~label.sk-toggleable__label-arrow:before {content: \"▾\";}#sk-container-id-1 div.sk-estimator input.sk-toggleable__control:checked~label.sk-toggleable__label {background-color: #d4ebff;}#sk-container-id-1 div.sk-label input.sk-toggleable__control:checked~label.sk-toggleable__label {background-color: #d4ebff;}#sk-container-id-1 input.sk-hidden--visually {border: 0;clip: rect(1px 1px 1px 1px);clip: rect(1px, 1px, 1px, 1px);height: 1px;margin: -1px;overflow: hidden;padding: 0;position: absolute;width: 1px;}#sk-container-id-1 div.sk-estimator {font-family: monospace;background-color: #f0f8ff;border: 1px dotted black;border-radius: 0.25em;box-sizing: border-box;margin-bottom: 0.5em;}#sk-container-id-1 div.sk-estimator:hover {background-color: #d4ebff;}#sk-container-id-1 div.sk-parallel-item::after {content: \"\";width: 100%;border-bottom: 1px solid gray;flex-grow: 1;}#sk-container-id-1 div.sk-label:hover label.sk-toggleable__label {background-color: #d4ebff;}#sk-container-id-1 div.sk-serial::before {content: \"\";position: absolute;border-left: 1px solid gray;box-sizing: border-box;top: 0;bottom: 0;left: 50%;z-index: 0;}#sk-container-id-1 div.sk-serial {display: flex;flex-direction: column;align-items: center;background-color: white;padding-right: 0.2em;padding-left: 0.2em;position: relative;}#sk-container-id-1 div.sk-item {position: relative;z-index: 1;}#sk-container-id-1 div.sk-parallel {display: flex;align-items: stretch;justify-content: center;background-color: white;position: relative;}#sk-container-id-1 div.sk-item::before, #sk-container-id-1 div.sk-parallel-item::before {content: \"\";position: absolute;border-left: 1px solid gray;box-sizing: border-box;top: 0;bottom: 0;left: 50%;z-index: -1;}#sk-container-id-1 div.sk-parallel-item {display: flex;flex-direction: column;z-index: 1;position: relative;background-color: white;}#sk-container-id-1 div.sk-parallel-item:first-child::after {align-self: flex-end;width: 50%;}#sk-container-id-1 div.sk-parallel-item:last-child::after {align-self: flex-start;width: 50%;}#sk-container-id-1 div.sk-parallel-item:only-child::after {width: 0;}#sk-container-id-1 div.sk-dashed-wrapped {border: 1px dashed gray;margin: 0 0.4em 0.5em 0.4em;box-sizing: border-box;padding-bottom: 0.4em;background-color: white;}#sk-container-id-1 div.sk-label label {font-family: monospace;font-weight: bold;display: inline-block;line-height: 1.2em;}#sk-container-id-1 div.sk-label-container {text-align: center;}#sk-container-id-1 div.sk-container {/* jupyter's `normalize.less` sets `[hidden] { display: none; }` but bootstrap.min.css set `[hidden] { display: none !important; }` so we also need the `!important` here to be able to override the default hidden behavior on the sphinx rendered scikit-learn.org. See: https://github.com/scikit-learn/scikit-learn/issues/21755 */display: inline-block !important;position: relative;}#sk-container-id-1 div.sk-text-repr-fallback {display: none;}</style><div id=\"sk-container-id-1\" class=\"sk-top-container\"><div class=\"sk-text-repr-fallback\"><pre>VotingRegressor(estimators=[(&#x27;poly2&#x27;,\n",
       "                             Pipeline(steps=[(&#x27;poly&#x27;, PolynomialFeatures()),\n",
       "                                             (&#x27;linear&#x27;,\n",
       "                                              ElasticNetCV(cv=3,\n",
       "                                                           precompute=True,\n",
       "                                                           tol=0.1,\n",
       "                                                           verbose=1))])),\n",
       "                            (&#x27;poly3&#x27;,\n",
       "                             Pipeline(steps=[(&#x27;poly&#x27;,\n",
       "                                              PolynomialFeatures(degree=3)),\n",
       "                                             (&#x27;linear&#x27;,\n",
       "                                              ElasticNetCV(cv=3,\n",
       "                                                           precompute=True,\n",
       "                                                           tol=0.1,\n",
       "                                                           verbose=1))])),\n",
       "                            (&#x27;poly4&#x27;,\n",
       "                             Pipeline(steps=[(&#x27;poly&#x27;,\n",
       "                                              PolynomialFeatures(degree=4)),\n",
       "                                             (&#x27;linear&#x27;,\n",
       "                                              ElasticNetCV(cv=3,\n",
       "                                                           precompute=True,\n",
       "                                                           tol=0.1,\n",
       "                                                           verbose=1))]))])</pre><b>In a Jupyter environment, please rerun this cell to show the HTML representation or trust the notebook. <br />On GitHub, the HTML representation is unable to render, please try loading this page with nbviewer.org.</b></div><div class=\"sk-container\" hidden><div class=\"sk-item sk-dashed-wrapped\"><div class=\"sk-label-container\"><div class=\"sk-label sk-toggleable\"><input class=\"sk-toggleable__control sk-hidden--visually\" id=\"sk-estimator-id-1\" type=\"checkbox\" ><label for=\"sk-estimator-id-1\" class=\"sk-toggleable__label sk-toggleable__label-arrow\">VotingRegressor</label><div class=\"sk-toggleable__content\"><pre>VotingRegressor(estimators=[(&#x27;poly2&#x27;,\n",
       "                             Pipeline(steps=[(&#x27;poly&#x27;, PolynomialFeatures()),\n",
       "                                             (&#x27;linear&#x27;,\n",
       "                                              ElasticNetCV(cv=3,\n",
       "                                                           precompute=True,\n",
       "                                                           tol=0.1,\n",
       "                                                           verbose=1))])),\n",
       "                            (&#x27;poly3&#x27;,\n",
       "                             Pipeline(steps=[(&#x27;poly&#x27;,\n",
       "                                              PolynomialFeatures(degree=3)),\n",
       "                                             (&#x27;linear&#x27;,\n",
       "                                              ElasticNetCV(cv=3,\n",
       "                                                           precompute=True,\n",
       "                                                           tol=0.1,\n",
       "                                                           verbose=1))])),\n",
       "                            (&#x27;poly4&#x27;,\n",
       "                             Pipeline(steps=[(&#x27;poly&#x27;,\n",
       "                                              PolynomialFeatures(degree=4)),\n",
       "                                             (&#x27;linear&#x27;,\n",
       "                                              ElasticNetCV(cv=3,\n",
       "                                                           precompute=True,\n",
       "                                                           tol=0.1,\n",
       "                                                           verbose=1))]))])</pre></div></div></div><div class=\"sk-parallel\"><div class=\"sk-parallel-item\"><div class=\"sk-item\"><div class=\"sk-label-container\"><div class=\"sk-label sk-toggleable\"><label>poly2</label></div></div><div class=\"sk-serial\"><div class=\"sk-item\"><div class=\"sk-serial\"><div class=\"sk-item\"><div class=\"sk-estimator sk-toggleable\"><input class=\"sk-toggleable__control sk-hidden--visually\" id=\"sk-estimator-id-2\" type=\"checkbox\" ><label for=\"sk-estimator-id-2\" class=\"sk-toggleable__label sk-toggleable__label-arrow\">PolynomialFeatures</label><div class=\"sk-toggleable__content\"><pre>PolynomialFeatures()</pre></div></div></div><div class=\"sk-item\"><div class=\"sk-estimator sk-toggleable\"><input class=\"sk-toggleable__control sk-hidden--visually\" id=\"sk-estimator-id-3\" type=\"checkbox\" ><label for=\"sk-estimator-id-3\" class=\"sk-toggleable__label sk-toggleable__label-arrow\">ElasticNetCV</label><div class=\"sk-toggleable__content\"><pre>ElasticNetCV(cv=3, precompute=True, tol=0.1, verbose=1)</pre></div></div></div></div></div></div></div></div><div class=\"sk-parallel-item\"><div class=\"sk-item\"><div class=\"sk-label-container\"><div class=\"sk-label sk-toggleable\"><label>poly3</label></div></div><div class=\"sk-serial\"><div class=\"sk-item\"><div class=\"sk-serial\"><div class=\"sk-item\"><div class=\"sk-estimator sk-toggleable\"><input class=\"sk-toggleable__control sk-hidden--visually\" id=\"sk-estimator-id-4\" type=\"checkbox\" ><label for=\"sk-estimator-id-4\" class=\"sk-toggleable__label sk-toggleable__label-arrow\">PolynomialFeatures</label><div class=\"sk-toggleable__content\"><pre>PolynomialFeatures(degree=3)</pre></div></div></div><div class=\"sk-item\"><div class=\"sk-estimator sk-toggleable\"><input class=\"sk-toggleable__control sk-hidden--visually\" id=\"sk-estimator-id-5\" type=\"checkbox\" ><label for=\"sk-estimator-id-5\" class=\"sk-toggleable__label sk-toggleable__label-arrow\">ElasticNetCV</label><div class=\"sk-toggleable__content\"><pre>ElasticNetCV(cv=3, precompute=True, tol=0.1, verbose=1)</pre></div></div></div></div></div></div></div></div><div class=\"sk-parallel-item\"><div class=\"sk-item\"><div class=\"sk-label-container\"><div class=\"sk-label sk-toggleable\"><label>poly4</label></div></div><div class=\"sk-serial\"><div class=\"sk-item\"><div class=\"sk-serial\"><div class=\"sk-item\"><div class=\"sk-estimator sk-toggleable\"><input class=\"sk-toggleable__control sk-hidden--visually\" id=\"sk-estimator-id-6\" type=\"checkbox\" ><label for=\"sk-estimator-id-6\" class=\"sk-toggleable__label sk-toggleable__label-arrow\">PolynomialFeatures</label><div class=\"sk-toggleable__content\"><pre>PolynomialFeatures(degree=4)</pre></div></div></div><div class=\"sk-item\"><div class=\"sk-estimator sk-toggleable\"><input class=\"sk-toggleable__control sk-hidden--visually\" id=\"sk-estimator-id-7\" type=\"checkbox\" ><label for=\"sk-estimator-id-7\" class=\"sk-toggleable__label sk-toggleable__label-arrow\">ElasticNetCV</label><div class=\"sk-toggleable__content\"><pre>ElasticNetCV(cv=3, precompute=True, tol=0.1, verbose=1)</pre></div></div></div></div></div></div></div></div></div></div></div></div>"
      ],
      "text/plain": [
       "VotingRegressor(estimators=[('poly2',\n",
       "                             Pipeline(steps=[('poly', PolynomialFeatures()),\n",
       "                                             ('linear',\n",
       "                                              ElasticNetCV(cv=3,\n",
       "                                                           precompute=True,\n",
       "                                                           tol=0.1,\n",
       "                                                           verbose=1))])),\n",
       "                            ('poly3',\n",
       "                             Pipeline(steps=[('poly',\n",
       "                                              PolynomialFeatures(degree=3)),\n",
       "                                             ('linear',\n",
       "                                              ElasticNetCV(cv=3,\n",
       "                                                           precompute=True,\n",
       "                                                           tol=0.1,\n",
       "                                                           verbose=1))])),\n",
       "                            ('poly4',\n",
       "                             Pipeline(steps=[('poly',\n",
       "                                              PolynomialFeatures(degree=4)),\n",
       "                                             ('linear',\n",
       "                                              ElasticNetCV(cv=3,\n",
       "                                                           precompute=True,\n",
       "                                                           tol=0.1,\n",
       "                                                           verbose=1))]))])"
      ]
     },
     "execution_count": 10,
     "metadata": {},
     "output_type": "execute_result"
    }
   ],
   "source": [
    "model"
   ]
  },
  {
   "cell_type": "code",
   "execution_count": 7,
   "metadata": {},
   "outputs": [
    {
     "name": "stdout",
     "output_type": "stream",
     "text": [
      "4272.445907922607\n"
     ]
    }
   ],
   "source": [
    "from sklearn.linear_model import ElasticNet\n",
    "\n",
    "elastic = ElasticNet()\n",
    "elastic.fit(X_train, y_train)\n",
    "print(mean_squared_error(y_test, elastic.predict(X_test)))\n"
   ]
  },
  {
   "cell_type": "code",
   "execution_count": 12,
   "metadata": {},
   "outputs": [
    {
     "data": {
      "text/plain": [
       "[ElasticNet(),\n",
       " ('poly2', Pipeline(steps=[('poly', PolynomialFeatures()),\n",
       "                  ('linear',\n",
       "                   ElasticNetCV(cv=3, precompute=True, tol=0.1, verbose=1))])),\n",
       " ('poly3',\n",
       "  Pipeline(steps=[('poly', PolynomialFeatures(degree=3)),\n",
       "                  ('linear',\n",
       "                   ElasticNetCV(cv=3, precompute=True, tol=0.1, verbose=1))])),\n",
       " ('poly4',\n",
       "  Pipeline(steps=[('poly', PolynomialFeatures(degree=4)),\n",
       "                  ('linear',\n",
       "                   ElasticNetCV(cv=3, precompute=True, tol=0.1, verbose=1))]))]"
      ]
     },
     "execution_count": 12,
     "metadata": {},
     "output_type": "execute_result"
    }
   ],
   "source": [
    "def flatten_list(lst):\n",
    "    \"\"\"\n",
    "    Flatten a list that may contain nested lists.\n",
    "    \n",
    "    Args:\n",
    "        lst (list): The list to flatten.\n",
    "    \n",
    "    Returns:\n",
    "        list: The flattened list.\n",
    "    \"\"\"\n",
    "    flattened = []\n",
    "    for item in lst:\n",
    "        if isinstance(item, list):\n",
    "            flattened.extend(flatten_list(item))\n",
    "        else:\n",
    "            flattened.append(item)\n",
    "    return flattened\n",
    "\n",
    "flatten_list([elastic, models])"
   ]
  },
  {
   "cell_type": "code",
   "execution_count": 12,
   "metadata": {},
   "outputs": [
    {
     "ename": "TypeError",
     "evalue": "__init__() got an unexpected keyword argument 'early_stopping'",
     "output_type": "error",
     "traceback": [
      "\u001b[0;31m---------------------------------------------------------------------------\u001b[0m",
      "\u001b[0;31mTypeError\u001b[0m                                 Traceback (most recent call last)",
      "Cell \u001b[0;32mIn[12], line 13\u001b[0m\n\u001b[1;32m     10\u001b[0m X_train, X_val, y_train, y_val \u001b[39m=\u001b[39m train_test_split(X, y, test_size\u001b[39m=\u001b[39m\u001b[39m0.2\u001b[39m, random_state\u001b[39m=\u001b[39m\u001b[39m42\u001b[39m)\n\u001b[1;32m     12\u001b[0m \u001b[39m# define the ElasticNetCV model with early stopping\u001b[39;00m\n\u001b[0;32m---> 13\u001b[0m model \u001b[39m=\u001b[39m ElasticNetCV(l1_ratio\u001b[39m=\u001b[39;49m[\u001b[39m.1\u001b[39;49m, \u001b[39m.5\u001b[39;49m, \u001b[39m.7\u001b[39;49m, \u001b[39m.9\u001b[39;49m, \u001b[39m.95\u001b[39;49m, \u001b[39m.99\u001b[39;49m, \u001b[39m1\u001b[39;49m], cv\u001b[39m=\u001b[39;49m\u001b[39m5\u001b[39;49m, random_state\u001b[39m=\u001b[39;49m\u001b[39m42\u001b[39;49m, max_iter\u001b[39m=\u001b[39;49m\u001b[39m10000\u001b[39;49m, tol\u001b[39m=\u001b[39;49m\u001b[39m1e-3\u001b[39;49m, n_jobs\u001b[39m=\u001b[39;49m\u001b[39m-\u001b[39;49m\u001b[39m1\u001b[39;49m, early_stopping\u001b[39m=\u001b[39;49m\u001b[39mTrue\u001b[39;49;00m)\n\u001b[1;32m     15\u001b[0m \u001b[39m# fit the model on the training set and monitor the performance on the validation set\u001b[39;00m\n\u001b[1;32m     16\u001b[0m model\u001b[39m.\u001b[39mfit(X_train, y_train, X_val\u001b[39m=\u001b[39mX_val, y_val\u001b[39m=\u001b[39my_val)\n",
      "\u001b[0;31mTypeError\u001b[0m: __init__() got an unexpected keyword argument 'early_stopping'"
     ]
    }
   ],
   "source": [
    "from sklearn.linear_model import ElasticNetCV\n",
    "from sklearn.datasets import make_regression\n",
    "from sklearn.model_selection import train_test_split\n",
    "import numpy as np\n",
    "\n",
    "# generate some regression data\n",
    "X, y = make_regression(n_samples=1000, n_features=20, random_state=42)\n",
    "\n",
    "# split the data into training and validation sets\n",
    "X_train, X_val, y_train, y_val = train_test_split(X, y, test_size=0.2, random_state=42)\n",
    "\n",
    "# define the ElasticNetCV model with early stopping\n",
    "model = ElasticNetCV(l1_ratio=[.1, .5, .7, .9, .95, .99, 1], cv=5, random_state=42, max_iter=10000, tol=1e-3, n_jobs=-1, early_stopping=True)\n",
    "\n",
    "# fit the model on the training set and monitor the performance on the validation set\n",
    "model.fit(X_train, y_train, X_val=X_val, y_val=y_val)\n",
    "\n",
    "# predict on the test set\n",
    "y_pred = model.predict(X_test)\n"
   ]
  },
  {
   "cell_type": "code",
   "execution_count": 44,
   "metadata": {},
   "outputs": [
    {
     "name": "stdout",
     "output_type": "stream",
     "text": [
      "Fitting 5 folds for each of 8 candidates, totalling 40 fits\n",
      "[CV 1/5] END poly__degree=2, reg__fit_intercept=False;, score=0.958 total time=   0.0s\n",
      "[CV 2/5] END poly__degree=2, reg__fit_intercept=False;, score=0.983 total time=   0.0s\n",
      "[CV 3/5] END poly__degree=2, reg__fit_intercept=False;, score=0.918 total time=   0.0s\n",
      "[CV 4/5] END poly__degree=2, reg__fit_intercept=False;, score=0.965 total time=   0.0s\n",
      "[CV 5/5] END poly__degree=2, reg__fit_intercept=False;, score=0.887 total time=   0.0s\n",
      "[CV 1/5] END poly__degree=2, reg__fit_intercept=True;, score=0.958 total time=   0.0s\n",
      "[CV 2/5] END poly__degree=2, reg__fit_intercept=True;, score=0.983 total time=   0.0s\n",
      "[CV 3/5] END poly__degree=2, reg__fit_intercept=True;, score=0.918 total time=   0.0s\n",
      "[CV 4/5] END poly__degree=2, reg__fit_intercept=True;, score=0.965 total time=   0.0s\n",
      "[CV 5/5] END poly__degree=2, reg__fit_intercept=True;, score=0.887 total time=   0.0s\n",
      "[CV 1/5] END poly__degree=1, reg__fit_intercept=False;, score=0.958 total time=   0.0s\n",
      "[CV 2/5] END poly__degree=1, reg__fit_intercept=False;, score=0.983 total time=   0.0s\n",
      "[CV 3/5] END poly__degree=1, reg__fit_intercept=False;, score=0.918 total time=   0.0s\n",
      "[CV 4/5] END poly__degree=1, reg__fit_intercept=False;, score=0.965 total time=   0.0s\n",
      "[CV 5/5] END poly__degree=1, reg__fit_intercept=False;, score=0.889 total time=   0.0s\n",
      "[CV 1/5] END poly__degree=1, reg__fit_intercept=True;, score=0.958 total time=   0.0s\n",
      "[CV 2/5] END poly__degree=1, reg__fit_intercept=True;, score=0.983 total time=   0.0s\n",
      "[CV 3/5] END poly__degree=1, reg__fit_intercept=True;, score=0.918 total time=   0.0s\n",
      "[CV 4/5] END poly__degree=1, reg__fit_intercept=True;, score=0.965 total time=   0.0s\n",
      "[CV 5/5] END poly__degree=1, reg__fit_intercept=True;, score=0.889 total time=   0.0s\n",
      "[CV 1/5] END poly__degree=3, reg__fit_intercept=False;, score=0.958 total time=   0.0s\n",
      "[CV 2/5] END poly__degree=3, reg__fit_intercept=False;, score=0.980 total time=   0.0s\n",
      "[CV 3/5] END poly__degree=3, reg__fit_intercept=False;, score=0.918 total time=   0.0s\n",
      "[CV 4/5] END poly__degree=3, reg__fit_intercept=False;, score=0.962 total time=   0.0s\n",
      "[CV 5/5] END poly__degree=3, reg__fit_intercept=False;, score=0.883 total time=   0.0s\n",
      "[CV 1/5] END poly__degree=3, reg__fit_intercept=True;, score=0.958 total time=   0.0s\n",
      "[CV 2/5] END poly__degree=3, reg__fit_intercept=True;, score=0.980 total time=   0.0s\n",
      "[CV 3/5] END poly__degree=3, reg__fit_intercept=True;, score=0.918 total time=   0.0s\n",
      "[CV 4/5] END poly__degree=3, reg__fit_intercept=True;, score=0.962 total time=   0.0s\n",
      "[CV 5/5] END poly__degree=3, reg__fit_intercept=True;, score=0.883 total time=   0.0s\n",
      "[CV 1/5] END poly__degree=4, reg__fit_intercept=False;, score=0.957 total time=   0.0s\n",
      "[CV 2/5] END poly__degree=4, reg__fit_intercept=False;, score=0.981 total time=   0.0s\n",
      "[CV 3/5] END poly__degree=4, reg__fit_intercept=False;, score=0.918 total time=   0.0s\n",
      "[CV 4/5] END poly__degree=4, reg__fit_intercept=False;, score=0.962 total time=   0.0s\n",
      "[CV 5/5] END poly__degree=4, reg__fit_intercept=False;, score=0.883 total time=   0.0s\n",
      "[CV 1/5] END poly__degree=4, reg__fit_intercept=True;, score=0.957 total time=   0.0s\n",
      "[CV 2/5] END poly__degree=4, reg__fit_intercept=True;, score=0.981 total time=   0.0s\n",
      "[CV 3/5] END poly__degree=4, reg__fit_intercept=True;, score=0.918 total time=   0.0s\n",
      "[CV 4/5] END poly__degree=4, reg__fit_intercept=True;, score=0.962 total time=   0.0s\n",
      "[CV 5/5] END poly__degree=4, reg__fit_intercept=True;, score=0.883 total time=   0.0s\n",
      "{'poly__degree': 1, 'reg__fit_intercept': False}\n",
      "0.9425826782120994\n"
     ]
    }
   ],
   "source": [
    "from sklearn.datasets import make_regression\n",
    "from sklearn.model_selection import train_test_split, GridSearchCV\n",
    "from sklearn.linear_model import LinearRegression\n",
    "from sklearn.preprocessing import PolynomialFeatures\n",
    "from sklearn.pipeline import Pipeline\n",
    "X, y = make_regression(n_samples=100, n_features=1, noise=10, random_state=42)\n",
    "X_train, X_test, y_train, y_test = train_test_split(X, y, test_size=0.2, random_state=42)\n",
    "pipe = Pipeline([\n",
    "    ('poly', PolynomialFeatures()),\n",
    "    ('reg', LinearRegression())\n",
    "])\n",
    "params = {\n",
    "    'poly__degree': [2, 1, 3, 4],\n",
    "    'reg__fit_intercept': [False, True]\n",
    "}\n",
    "grid = GridSearchCV(pipe, params, cv=5, verbose=3)\n",
    "grid.fit(X_train, y_train)\n",
    "\n",
    "print(grid.best_params_)\n",
    "print(grid.best_score_)"
   ]
  },
  {
   "cell_type": "code",
   "execution_count": 36,
   "metadata": {},
   "outputs": [
    {
     "data": {
      "text/html": [
       "<style>#sk-container-id-3 {color: black;background-color: white;}#sk-container-id-3 pre{padding: 0;}#sk-container-id-3 div.sk-toggleable {background-color: white;}#sk-container-id-3 label.sk-toggleable__label {cursor: pointer;display: block;width: 100%;margin-bottom: 0;padding: 0.3em;box-sizing: border-box;text-align: center;}#sk-container-id-3 label.sk-toggleable__label-arrow:before {content: \"▸\";float: left;margin-right: 0.25em;color: #696969;}#sk-container-id-3 label.sk-toggleable__label-arrow:hover:before {color: black;}#sk-container-id-3 div.sk-estimator:hover label.sk-toggleable__label-arrow:before {color: black;}#sk-container-id-3 div.sk-toggleable__content {max-height: 0;max-width: 0;overflow: hidden;text-align: left;background-color: #f0f8ff;}#sk-container-id-3 div.sk-toggleable__content pre {margin: 0.2em;color: black;border-radius: 0.25em;background-color: #f0f8ff;}#sk-container-id-3 input.sk-toggleable__control:checked~div.sk-toggleable__content {max-height: 200px;max-width: 100%;overflow: auto;}#sk-container-id-3 input.sk-toggleable__control:checked~label.sk-toggleable__label-arrow:before {content: \"▾\";}#sk-container-id-3 div.sk-estimator input.sk-toggleable__control:checked~label.sk-toggleable__label {background-color: #d4ebff;}#sk-container-id-3 div.sk-label input.sk-toggleable__control:checked~label.sk-toggleable__label {background-color: #d4ebff;}#sk-container-id-3 input.sk-hidden--visually {border: 0;clip: rect(1px 1px 1px 1px);clip: rect(1px, 1px, 1px, 1px);height: 1px;margin: -1px;overflow: hidden;padding: 0;position: absolute;width: 1px;}#sk-container-id-3 div.sk-estimator {font-family: monospace;background-color: #f0f8ff;border: 1px dotted black;border-radius: 0.25em;box-sizing: border-box;margin-bottom: 0.5em;}#sk-container-id-3 div.sk-estimator:hover {background-color: #d4ebff;}#sk-container-id-3 div.sk-parallel-item::after {content: \"\";width: 100%;border-bottom: 1px solid gray;flex-grow: 1;}#sk-container-id-3 div.sk-label:hover label.sk-toggleable__label {background-color: #d4ebff;}#sk-container-id-3 div.sk-serial::before {content: \"\";position: absolute;border-left: 1px solid gray;box-sizing: border-box;top: 0;bottom: 0;left: 50%;z-index: 0;}#sk-container-id-3 div.sk-serial {display: flex;flex-direction: column;align-items: center;background-color: white;padding-right: 0.2em;padding-left: 0.2em;position: relative;}#sk-container-id-3 div.sk-item {position: relative;z-index: 1;}#sk-container-id-3 div.sk-parallel {display: flex;align-items: stretch;justify-content: center;background-color: white;position: relative;}#sk-container-id-3 div.sk-item::before, #sk-container-id-3 div.sk-parallel-item::before {content: \"\";position: absolute;border-left: 1px solid gray;box-sizing: border-box;top: 0;bottom: 0;left: 50%;z-index: -1;}#sk-container-id-3 div.sk-parallel-item {display: flex;flex-direction: column;z-index: 1;position: relative;background-color: white;}#sk-container-id-3 div.sk-parallel-item:first-child::after {align-self: flex-end;width: 50%;}#sk-container-id-3 div.sk-parallel-item:last-child::after {align-self: flex-start;width: 50%;}#sk-container-id-3 div.sk-parallel-item:only-child::after {width: 0;}#sk-container-id-3 div.sk-dashed-wrapped {border: 1px dashed gray;margin: 0 0.4em 0.5em 0.4em;box-sizing: border-box;padding-bottom: 0.4em;background-color: white;}#sk-container-id-3 div.sk-label label {font-family: monospace;font-weight: bold;display: inline-block;line-height: 1.2em;}#sk-container-id-3 div.sk-label-container {text-align: center;}#sk-container-id-3 div.sk-container {/* jupyter's `normalize.less` sets `[hidden] { display: none; }` but bootstrap.min.css set `[hidden] { display: none !important; }` so we also need the `!important` here to be able to override the default hidden behavior on the sphinx rendered scikit-learn.org. See: https://github.com/scikit-learn/scikit-learn/issues/21755 */display: inline-block !important;position: relative;}#sk-container-id-3 div.sk-text-repr-fallback {display: none;}</style><div id=\"sk-container-id-3\" class=\"sk-top-container\"><div class=\"sk-text-repr-fallback\"><pre>Pipeline(steps=[(&#x27;poly&#x27;, PolynomialFeatures()), (&#x27;reg&#x27;, LinearRegression())])</pre><b>In a Jupyter environment, please rerun this cell to show the HTML representation or trust the notebook. <br />On GitHub, the HTML representation is unable to render, please try loading this page with nbviewer.org.</b></div><div class=\"sk-container\" hidden><div class=\"sk-item sk-dashed-wrapped\"><div class=\"sk-label-container\"><div class=\"sk-label sk-toggleable\"><input class=\"sk-toggleable__control sk-hidden--visually\" id=\"sk-estimator-id-11\" type=\"checkbox\" ><label for=\"sk-estimator-id-11\" class=\"sk-toggleable__label sk-toggleable__label-arrow\">Pipeline</label><div class=\"sk-toggleable__content\"><pre>Pipeline(steps=[(&#x27;poly&#x27;, PolynomialFeatures()), (&#x27;reg&#x27;, LinearRegression())])</pre></div></div></div><div class=\"sk-serial\"><div class=\"sk-item\"><div class=\"sk-estimator sk-toggleable\"><input class=\"sk-toggleable__control sk-hidden--visually\" id=\"sk-estimator-id-12\" type=\"checkbox\" ><label for=\"sk-estimator-id-12\" class=\"sk-toggleable__label sk-toggleable__label-arrow\">PolynomialFeatures</label><div class=\"sk-toggleable__content\"><pre>PolynomialFeatures()</pre></div></div></div><div class=\"sk-item\"><div class=\"sk-estimator sk-toggleable\"><input class=\"sk-toggleable__control sk-hidden--visually\" id=\"sk-estimator-id-13\" type=\"checkbox\" ><label for=\"sk-estimator-id-13\" class=\"sk-toggleable__label sk-toggleable__label-arrow\">LinearRegression</label><div class=\"sk-toggleable__content\"><pre>LinearRegression()</pre></div></div></div></div></div></div></div>"
      ],
      "text/plain": [
       "Pipeline(steps=[('poly', PolynomialFeatures()), ('reg', LinearRegression())])"
      ]
     },
     "execution_count": 36,
     "metadata": {},
     "output_type": "execute_result"
    }
   ],
   "source": [
    "pipe1 = Pipeline([\n",
    "    ('poly', PolynomialFeatures(degree=2)),\n",
    "    ('reg', LinearRegression())\n",
    "])\n",
    "\n",
    "pipe1.fit(X_train, y_train)"
   ]
  },
  {
   "cell_type": "code",
   "execution_count": 37,
   "metadata": {},
   "outputs": [
    {
     "data": {
      "text/plain": [
       "array([  15.45890425,  -44.66559573,  -26.28001477,   66.85108607,\n",
       "         34.02123509,    4.37767524,   16.23965215,  -63.1393585 ,\n",
       "         44.31576272,  -65.55843108,   67.49969017,  -28.25922375,\n",
       "         -4.77610124,  -26.32751883,  -21.88441792,   28.78736208,\n",
       "        -76.66470235,   42.79663178,    9.00645093,  -87.2795692 ,\n",
       "          9.53463617,  -39.98120987,   24.1854037 ,   81.050888  ,\n",
       "         -1.25021808, -117.30118665,    5.22207646,   64.36979231,\n",
       "        -48.85026941,   -9.37665923,   68.64934587,   14.16857455,\n",
       "         22.90196591,   36.42714208,   27.2116767 ,   13.37195897,\n",
       "        -20.18167146,  -64.88315092,  -12.88966216,   -5.77577459,\n",
       "         14.91619081,  -13.3418148 ,  -16.70530478,  -22.61807738,\n",
       "        -14.15942268,  -85.17935767,  -12.9825396 ,  -24.57449933,\n",
       "         -9.64683252,  -31.58676482,  -23.7785524 ,  -29.6749998 ,\n",
       "        -10.03682732,   14.80582068,   -2.84806274,   -7.87169621,\n",
       "         69.27868166,   11.83043252,  -20.05828641,  -88.54324605,\n",
       "        -30.79421217,   46.64781003,   16.25020966,  -52.87726469,\n",
       "          4.16992354,  -10.0169    ,    4.61199059,  -46.67350192,\n",
       "         40.47687833,   -0.26459171,   59.6332994 ,  -36.90941339,\n",
       "        -20.45060649,    7.88430508,   22.17646949,   14.60077616,\n",
       "        -62.5797738 ,  -35.53868113,    3.30951033,    0.55668538])"
      ]
     },
     "execution_count": 37,
     "metadata": {},
     "output_type": "execute_result"
    }
   ],
   "source": [
    "pipe1.predict(X_train)"
   ]
  }
 ],
 "metadata": {
  "kernelspec": {
   "display_name": "base",
   "language": "python",
   "name": "python3"
  },
  "language_info": {
   "codemirror_mode": {
    "name": "ipython",
    "version": 3
   },
   "file_extension": ".py",
   "mimetype": "text/x-python",
   "name": "python",
   "nbconvert_exporter": "python",
   "pygments_lexer": "ipython3",
   "version": "3.9.15"
  },
  "orig_nbformat": 4,
  "vscode": {
   "interpreter": {
    "hash": "cc09f31dac7c0d375489b816e1f71545b84c713f14d72a59d408a359f22c77a7"
   }
  }
 },
 "nbformat": 4,
 "nbformat_minor": 2
}
