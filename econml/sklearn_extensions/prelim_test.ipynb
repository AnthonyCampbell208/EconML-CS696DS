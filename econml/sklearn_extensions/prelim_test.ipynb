{
 "cells": [
  {
   "cell_type": "code",
   "execution_count": 43,
   "metadata": {},
   "outputs": [],
   "source": [
    "from model_selection_utils import *\n",
    "from model_selection import GridSearchCVList\n",
    "from sklearn.linear_model import Lasso, LogisticRegression\n",
    "from sklearn.ensemble import RandomForestRegressor, GradientBoostingRegressor\n",
    "from sklearn.ensemble import RandomForestClassifier, GradientBoostingClassifier\n",
    "from sklearn.base import clone\n",
    "from linear_model import WeightedLasso\n"
   ]
  },
  {
   "cell_type": "code",
   "execution_count": 19,
   "metadata": {},
   "outputs": [],
   "source": [
    "def reg():\n",
    "    return GridSearchCVList(['linear'],\n",
    "                             param_grid_list=[{}, {}, {}, {}],\n",
    "                             cv=3,\n",
    "                             scoring='neg_mean_squared_error')"
   ]
  },
  {
   "cell_type": "code",
   "execution_count": 51,
   "metadata": {},
   "outputs": [
    {
     "name": "stdout",
     "output_type": "stream",
     "text": [
      "(10, 1)   (10,)\n"
     ]
    }
   ],
   "source": [
    "X = np.array([0, 1, 2, 3, 4, 5, 6 , 7, 8, 9]).reshape(-1, 1)\n",
    "Y = np.array([0, 2, 4, 6, 8, 10, 12, 14, 16, 18])\n",
    "\n",
    "print(X.shape, \" \", Y.shape)"
   ]
  },
  {
   "cell_type": "code",
   "execution_count": 52,
   "metadata": {},
   "outputs": [],
   "source": [
    "model = clone(reg().fit(X, Y).best_estimator_)\n"
   ]
  },
  {
   "cell_type": "code",
   "execution_count": 56,
   "metadata": {},
   "outputs": [
    {
     "data": {
      "text/plain": [
       "ElasticNetCV()"
      ]
     },
     "execution_count": 56,
     "metadata": {},
     "output_type": "execute_result"
    }
   ],
   "source": [
    "model.fit(X, Y)"
   ]
  },
  {
   "cell_type": "code",
   "execution_count": 57,
   "metadata": {},
   "outputs": [
    {
     "data": {
      "text/plain": [
       "array([ 0.02694611,  2.02095808,  4.01497006,  6.00898204,  8.00299401,\n",
       "        9.99700599, 11.99101796, 13.98502994, 15.97904192, 17.97305389])"
      ]
     },
     "execution_count": 57,
     "metadata": {},
     "output_type": "execute_result"
    }
   ],
   "source": [
    "model.predict(X)"
   ]
  }
 ],
 "metadata": {
  "kernelspec": {
   "display_name": "Python 3.9.7 ('base')",
   "language": "python",
   "name": "python3"
  },
  "language_info": {
   "codemirror_mode": {
    "name": "ipython",
    "version": 3
   },
   "file_extension": ".py",
   "mimetype": "text/x-python",
   "name": "python",
   "nbconvert_exporter": "python",
   "pygments_lexer": "ipython3",
   "version": "3.9.7"
  },
  "orig_nbformat": 4,
  "vscode": {
   "interpreter": {
    "hash": "af4521a1c734e7c65889f479bb79ece66303508270e0aa19c37418c08bff644d"
   }
  }
 },
 "nbformat": 4,
 "nbformat_minor": 2
}
